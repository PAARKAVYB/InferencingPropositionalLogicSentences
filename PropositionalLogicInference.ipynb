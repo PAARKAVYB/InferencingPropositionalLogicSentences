{
 "cells": [
  {
   "cell_type": "code",
   "execution_count": 8,
   "metadata": {},
   "outputs": [],
   "source": [
    "from utils import *\n",
    "from logic import *"
   ]
  },
  {
   "cell_type": "markdown",
   "metadata": {},
   "source": [
    "## Operators for Constructing Logical Sentences\n",
    "\n",
    "Here is a table of the operators that can be used to form sentences. Note that we have a problem: we want to use Python operators to make sentences, so that our programs (and our interactive sessions like the one here) will show simple code. But Python does not allow implication arrows as operators, so for now we have to use a more verbose notation that Python does allow: `|'==>'|` instead of just `==>`. Alternately, you can always use the more verbose `Expr` constructor forms:\n",
    "\n",
    "| Operation                | Book | Python Infix Input | Python Output | Python `Expr` Input\n",
    "|--------------------------|----------------------|-------------------------|---|---|\n",
    "| Negation                 | &not; P      | `~P`                       | `~P` | `Expr('~', P)`\n",
    "| And                      | P &and; Q       | `P & Q`                     | `P & Q` | `Expr('&', P, Q)`\n",
    "| Or                       | P &or; Q | `P`<tt> &#124; </tt>`Q`| `P`<tt> &#124; </tt>`Q` | `Expr('`&#124;`', P, Q)`\n",
    "| Inequality (Xor)         | P &ne; Q     | `P ^ Q`                | `P ^ Q`  | `Expr('^', P, Q)`\n",
    "| Implication                  | P &rarr; Q    | `P` <tt>&#124;</tt>`'==>'`<tt>&#124;</tt> `Q`   | `P ==> Q` | `Expr('==>', P, Q)`\n",
    "| Reverse Implication      | Q &larr; P     | `Q` <tt>&#124;</tt>`'<=='`<tt>&#124;</tt> `P`  |`Q <== P` | `Expr('<==', Q, P)`\n",
    "| Equivalence            | P &harr; Q   | `P` <tt>&#124;</tt>`'<=>'`<tt>&#124;</tt> `Q`   |`P <=> Q` | `Expr('<=>', P, Q)`\n",
    "\n"
   ]
  },
  {
   "cell_type": "markdown",
   "metadata": {},
   "source": [
    "https://thiagodnf.github.io/wumpus-world-simulator/"
   ]
  },
  {
   "cell_type": "markdown",
   "metadata": {},
   "source": [
    "![alt text for screen readers](./images/wumpus-world.jpg \"Text to show on mouseover\")"
   ]
  },
  {
   "cell_type": "markdown",
   "metadata": {},
   "source": [
    "![alt text for screen readers](./images/variables.png \"Text to show on mouseover\")"
   ]
  },
  {
   "cell_type": "markdown",
   "metadata": {},
   "source": [
    "## Wumpus World KB"
   ]
  },
  {
   "cell_type": "code",
   "execution_count": 2,
   "metadata": {},
   "outputs": [],
   "source": [
    "wumpus_kb = PropKB()"
   ]
  },
  {
   "cell_type": "code",
   "execution_count": 3,
   "metadata": {},
   "outputs": [],
   "source": [
    "P11, P12, P21, P22, P31, B11, B21 = expr('P11, P12, P21, P22, P31, B11, B21')"
   ]
  },
  {
   "cell_type": "code",
   "execution_count": 4,
   "metadata": {},
   "outputs": [],
   "source": [
    "wumpus_kb.tell(B11 | '<=>' | ((P12 | P21)))\n",
    "wumpus_kb.tell(B21 | '<=>' | ((P11 | P22 | P31)))"
   ]
  },
  {
   "cell_type": "code",
   "execution_count": 7,
   "metadata": {},
   "outputs": [
    {
     "data": {
      "text/plain": [
       "[(~P12 | B11),\n",
       " (~P21 | B11),\n",
       " (P12 | P21 | ~B11),\n",
       " (~P11 | B21),\n",
       " (~P22 | B21),\n",
       " (~P31 | B21),\n",
       " (P11 | P22 | P31 | ~B21)]"
      ]
     },
     "execution_count": 7,
     "metadata": {},
     "output_type": "execute_result"
    }
   ],
   "source": [
    "wumpus_kb.clauses"
   ]
  },
  {
   "cell_type": "code",
   "execution_count": 6,
   "metadata": {},
   "outputs": [
    {
     "data": {
      "text/plain": [
       "False"
      ]
     },
     "execution_count": 6,
     "metadata": {},
     "output_type": "execute_result"
    }
   ],
   "source": [
    "wumpus_kb.ask_if_true(~P22)"
   ]
  },
  {
   "cell_type": "code",
   "execution_count": null,
   "metadata": {},
   "outputs": [],
   "source": []
  },
  {
   "cell_type": "code",
   "execution_count": 11,
   "metadata": {},
   "outputs": [],
   "source": [
    "P11, P12, P21, P22, P31, P32, P33, P13, P23, B11, B12, B21, B22, B31, B32, B33, B13, B23, W11, W12, W21, W22, W31, W32, W33, W13, W23, S11, S12, S21, S22, S31, S32, S33, S13, S23 = expr('P11, P12, P21, P22, P31, P32, P33, P13, P23, B11, B12, B21, B22, B31, B32, B33, B13, B23, W11, W12, W21, W22, W31, W32, W33, W13, W23, S11, S12, S21, S22, S31, S32, S33, S13, S23')"
   ]
  },
  {
   "cell_type": "code",
   "execution_count": 15,
   "metadata": {},
   "outputs": [],
   "source": [
    "wumpus_kb.tell(~P11)\n",
    "wumpus_kb.tell(~S11)\n",
    "wumpus_kb.tell(~W11)\n",
    "wumpus_kb.tell(~B11)"
   ]
  },
  {
   "cell_type": "code",
   "execution_count": null,
   "metadata": {},
   "outputs": [],
   "source": []
  },
  {
   "cell_type": "code",
   "execution_count": 16,
   "metadata": {},
   "outputs": [
    {
     "data": {
      "text/plain": [
       "[~P11,\n",
       " (~P12 | B11),\n",
       " (~P21 | B11),\n",
       " (P12 | P21 | ~B11),\n",
       " (~P11 | B21),\n",
       " (~P22 | B21),\n",
       " (~P31 | B21),\n",
       " (P11 | P22 | P31 | ~B21),\n",
       " ~B11,\n",
       " B21,\n",
       " ~P11,\n",
       " ~W11,\n",
       " ~B11,\n",
       " ~S11,\n",
       " ~P11,\n",
       " ~W11,\n",
       " ~B11,\n",
       " ~S11,\n",
       " ~P11,\n",
       " ~S11,\n",
       " ~W11,\n",
       " ~B11]"
      ]
     },
     "execution_count": 16,
     "metadata": {},
     "output_type": "execute_result"
    }
   ],
   "source": [
    "wumpus_kb.clauses"
   ]
  },
  {
   "cell_type": "code",
   "execution_count": 40,
   "metadata": {},
   "outputs": [
    {
     "data": {
      "text/plain": [
       "False"
      ]
     },
     "execution_count": 40,
     "metadata": {},
     "output_type": "execute_result"
    }
   ],
   "source": [
    "wumpus_kb.ask_if_true(P12)"
   ]
  },
  {
   "cell_type": "code",
   "execution_count": 41,
   "metadata": {},
   "outputs": [],
   "source": [
    "wumpus_kb.tell(S12)"
   ]
  },
  {
   "cell_type": "code",
   "execution_count": 48,
   "metadata": {},
   "outputs": [],
   "source": [
    "wumpus_kb.tell(S23)"
   ]
  },
  {
   "cell_type": "code",
   "execution_count": 49,
   "metadata": {},
   "outputs": [],
   "source": [
    "wumpus_kb.tell(S12 | '<=>' | ((W22 | W13)))\n",
    "wumpus_kb.tell(~B12 | '<=>' | ((~P22 | ~P13)))"
   ]
  },
  {
   "cell_type": "code",
   "execution_count": 50,
   "metadata": {},
   "outputs": [
    {
     "data": {
      "text/plain": [
       "[~P11,\n",
       " (~P12 | B11),\n",
       " (~P21 | B11),\n",
       " (P12 | P21 | ~B11),\n",
       " (~P11 | B21),\n",
       " (~P22 | B21),\n",
       " (~P31 | B21),\n",
       " (P11 | P22 | P31 | ~B21),\n",
       " ~B11,\n",
       " B21,\n",
       " ~P11,\n",
       " ~W11,\n",
       " ~B11,\n",
       " ~S11,\n",
       " ~P11,\n",
       " ~W11,\n",
       " ~B11,\n",
       " ~S11,\n",
       " ~P11,\n",
       " ~S11,\n",
       " ~W11,\n",
       " ~B11,\n",
       " S21,\n",
       " (~W22 | S11),\n",
       " (~W31 | S11),\n",
       " (W22 | W31 | ~S11),\n",
       " (~W22 | S11),\n",
       " (~W31 | S11),\n",
       " (W22 | W31 | ~S11),\n",
       " (P22 | ~B21),\n",
       " (P31 | ~B21),\n",
       " (~P22 | ~P31 | B21),\n",
       " (~W22 | S11),\n",
       " (~W13 | S11),\n",
       " (W22 | W13 | ~S11),\n",
       " (P22 | ~B21),\n",
       " (P13 | ~B21),\n",
       " (~P22 | ~P13 | B21),\n",
       " S12,\n",
       " (~W22 | S11),\n",
       " (~W13 | S11),\n",
       " (W22 | W13 | ~S11),\n",
       " (P22 | ~B21),\n",
       " (P13 | ~B21),\n",
       " (~P22 | ~P13 | B21),\n",
       " (~W22 | S12),\n",
       " (~W13 | S12),\n",
       " (W22 | W13 | ~S12),\n",
       " (P22 | ~B12),\n",
       " (P13 | ~B12),\n",
       " (~P22 | ~P13 | B12),\n",
       " S23,\n",
       " (~W22 | S12),\n",
       " (~W13 | S12),\n",
       " (W22 | W13 | ~S12),\n",
       " (P22 | ~B12),\n",
       " (P13 | ~B12),\n",
       " (~P22 | ~P13 | B12)]"
      ]
     },
     "execution_count": 50,
     "metadata": {},
     "output_type": "execute_result"
    }
   ],
   "source": [
    "wumpus_kb.clauses"
   ]
  },
  {
   "cell_type": "code",
   "execution_count": 51,
   "metadata": {},
   "outputs": [
    {
     "data": {
      "text/plain": [
       "True"
      ]
     },
     "execution_count": 51,
     "metadata": {},
     "output_type": "execute_result"
    }
   ],
   "source": [
    "wumpus_kb.ask_if_true(W13)"
   ]
  },
  {
   "cell_type": "code",
   "execution_count": 52,
   "metadata": {},
   "outputs": [
    {
     "data": {
      "text/plain": [
       "True"
      ]
     },
     "execution_count": 52,
     "metadata": {},
     "output_type": "execute_result"
    }
   ],
   "source": [
    "wumpus_kb.ask_if_true(W22)"
   ]
  },
  {
   "cell_type": "code",
   "execution_count": 53,
   "metadata": {},
   "outputs": [
    {
     "data": {
      "text/plain": [
       "True"
      ]
     },
     "execution_count": 53,
     "metadata": {},
     "output_type": "execute_result"
    }
   ],
   "source": [
    "wumpus_kb.ask_if_true(P)"
   ]
  },
  {
   "cell_type": "code",
   "execution_count": 1,
   "metadata": {},
   "outputs": [
    {
     "data": {
      "text/plain": [
       "'P11,P12,P13,P14,P21,P22,P23,P24,P31,P32,P33,P34,P41,P42,P43,P44,B11,B12,B13,B14,B21,B22,B23,B24,B31,B32,B33,B34,B41,B42,B43,B44,W11,W12,W13,W14,W21,W22,W23,W24,W31,W32,W33,W34,W41,W42,W43,W44,S11,S12,S13,S14,S21,S22,S23,S24,S31,S32,S33,S34,S41,S42,S43,S44'"
      ]
     },
     "execution_count": 1,
     "metadata": {},
     "output_type": "execute_result"
    }
   ],
   "source": [
    "from utils import *\n",
    "from logic import *\n",
    "char=['P','B','W','S']\n",
    "abc=''\n",
    "ind=[1,2,3,4]\n",
    "for i in char:\n",
    "    for x in ind:\n",
    "        for y in ind:\n",
    "            abc= abc+(str(i)+str(x)+str(y))+','\n",
    "abc= abc[0:-1]\n",
    "abc"
   ]
  },
  {
   "cell_type": "code",
   "execution_count": null,
   "metadata": {},
   "outputs": [],
   "source": []
  },
  {
   "cell_type": "code",
   "execution_count": null,
   "metadata": {},
   "outputs": [],
   "source": []
  },
  {
   "cell_type": "code",
   "execution_count": null,
   "metadata": {},
   "outputs": [],
   "source": []
  },
  {
   "cell_type": "code",
   "execution_count": null,
   "metadata": {},
   "outputs": [],
   "source": []
  },
  {
   "cell_type": "code",
   "execution_count": 2,
   "metadata": {},
   "outputs": [
    {
     "data": {
      "text/plain": [
       "'P11,P12,P13,P14,P21,P22,P23,P24,P31,P32,P33,P34,P41,P42,P43,P44,B11,B12,B13,B14,B21,B22,B23,B24,B31,B32,B33,B34,B41,B42,B43,B44,W11,W12,W13,W14,W21,W22,W23,W24,W31,W32,W33,W34,W41,W42,W43,W44,S11,S12,S13,S14,S21,S22,S23,S24,S31,S32,S33,S34,S41,S42,S43,S44'"
      ]
     },
     "execution_count": 2,
     "metadata": {},
     "output_type": "execute_result"
    }
   ],
   "source": [
    "from utils import *\n",
    "from logic import *\n",
    "char=['P','B','W','S']\n",
    "abc=''\n",
    "ind=[1,2,3,4]\n",
    "for i in char:\n",
    "    for x in ind:\n",
    "        for y in ind:\n",
    "            abc= abc+(str(i)+str(x)+str(y))+','\n",
    "abc= abc[0:-1]\n",
    "abc"
   ]
  },
  {
   "cell_type": "code",
   "execution_count": 3,
   "metadata": {},
   "outputs": [],
   "source": [
    "wumpus_kb = PropKB()\n",
    "P11,P12,P13,P14,P21,P22,P23,P24,P31,P32,P33,P34,P41,P42,P43,P44,B11,B12,B13,B14,B21,B22,B23,B24,B31,B32,B33,B34,B41,B42,B43,B44,W11,W12,W13,W14,W21,W22,W23,W24,W31,W32,W33,W34,W41,W42,W43,W44,S11,S12,S13,S14,S21,S22,S23,S24,S31,S32,S33,S34,S41,S42,S43,S44= expr('P11,P12,P13,P14,P21,P22,P23,P24,P31,P32,P33,P34,P41,P42,P43,P44,B11,B12,B13,B14,B21,B22,B23,B24,B31,B32,B33,B34,B41,B42,B43,B44,W11,W12,W13,W14,W21,W22,W23,W24,W31,W32,W33,W34,W41,W42,W43,W44,S11,S12,S13,S14,S21,S22,S23,S24,S31,S32,S33,S34,S41,S42,S43,S44')"
   ]
  },
  {
   "cell_type": "code",
   "execution_count": 5,
   "metadata": {},
   "outputs": [],
   "source": [
    "wumpus_kb.tell(~P11)\n"
   ]
  },
  {
   "cell_type": "code",
   "execution_count": 6,
   "metadata": {},
   "outputs": [],
   "source": [
    "wumpus_kb.tell(~S11)\n"
   ]
  },
  {
   "cell_type": "code",
   "execution_count": 7,
   "metadata": {},
   "outputs": [],
   "source": [
    "wumpus_kb.tell(~W11)\n"
   ]
  },
  {
   "cell_type": "code",
   "execution_count": 8,
   "metadata": {},
   "outputs": [],
   "source": [
    "wumpus_kb.tell(~B11)\n"
   ]
  },
  {
   "cell_type": "code",
   "execution_count": 9,
   "metadata": {},
   "outputs": [],
   "source": [
    "wumpus_kb.tell(~S12)\n"
   ]
  },
  {
   "cell_type": "code",
   "execution_count": 10,
   "metadata": {},
   "outputs": [],
   "source": [
    "wumpus_kb.tell(~B12)\n"
   ]
  },
  {
   "cell_type": "code",
   "execution_count": 11,
   "metadata": {},
   "outputs": [],
   "source": [
    "wumpus_kb.tell(~P12)\n"
   ]
  },
  {
   "cell_type": "code",
   "execution_count": 12,
   "metadata": {},
   "outputs": [],
   "source": [
    "wumpus_kb.tell(~W12)\n"
   ]
  },
  {
   "cell_type": "code",
   "execution_count": 13,
   "metadata": {},
   "outputs": [],
   "source": [
    "wumpus_kb.tell(~P13)\n"
   ]
  },
  {
   "cell_type": "code",
   "execution_count": 14,
   "metadata": {},
   "outputs": [],
   "source": [
    "wumpus_kb.tell(~S13) \n"
   ]
  },
  {
   "cell_type": "code",
   "execution_count": 15,
   "metadata": {},
   "outputs": [],
   "source": [
    "wumpus_kb.tell(~W13)\n"
   ]
  },
  {
   "cell_type": "code",
   "execution_count": 16,
   "metadata": {},
   "outputs": [],
   "source": [
    "wumpus_kb.tell(~B13)\n"
   ]
  },
  {
   "cell_type": "code",
   "execution_count": 17,
   "metadata": {},
   "outputs": [],
   "source": [
    "wumpus_kb.tell(~S14)\n"
   ]
  },
  {
   "cell_type": "code",
   "execution_count": 18,
   "metadata": {},
   "outputs": [],
   "source": [
    "wumpus_kb.tell(~B14)\n"
   ]
  },
  {
   "cell_type": "code",
   "execution_count": 19,
   "metadata": {},
   "outputs": [],
   "source": [
    "wumpus_kb.tell(~P14)\n"
   ]
  },
  {
   "cell_type": "code",
   "execution_count": 20,
   "metadata": {},
   "outputs": [],
   "source": [
    "wumpus_kb.tell(~W14)"
   ]
  },
  {
   "cell_type": "code",
   "execution_count": 21,
   "metadata": {},
   "outputs": [
    {
     "data": {
      "text/plain": [
       "[~P11,\n",
       " ~S11,\n",
       " ~W11,\n",
       " ~B11,\n",
       " ~S12,\n",
       " ~B12,\n",
       " ~P12,\n",
       " ~W12,\n",
       " ~P13,\n",
       " ~S13,\n",
       " ~W13,\n",
       " ~B13,\n",
       " ~S14,\n",
       " ~B14,\n",
       " ~P14,\n",
       " ~W14,\n",
       " ~P11,\n",
       " ~S11,\n",
       " ~W11,\n",
       " ~B11,\n",
       " ~S12,\n",
       " ~B12,\n",
       " ~P12,\n",
       " ~W12,\n",
       " ~P13,\n",
       " ~S13,\n",
       " ~W13,\n",
       " ~B13,\n",
       " ~S14,\n",
       " ~B14,\n",
       " ~P14,\n",
       " ~W14]"
      ]
     },
     "execution_count": 21,
     "metadata": {},
     "output_type": "execute_result"
    }
   ],
   "source": [
    "wumpus_kb.clauses\n"
   ]
  },
  {
   "cell_type": "code",
   "execution_count": 22,
   "metadata": {},
   "outputs": [
    {
     "data": {
      "text/plain": [
       "False"
      ]
     },
     "execution_count": 22,
     "metadata": {},
     "output_type": "execute_result"
    }
   ],
   "source": [
    "wumpus_kb.ask_if_true(P21)\n"
   ]
  },
  {
   "cell_type": "code",
   "execution_count": 23,
   "metadata": {},
   "outputs": [],
   "source": [
    "wumpus_kb.tell(~S24)\n"
   ]
  },
  {
   "cell_type": "code",
   "execution_count": 24,
   "metadata": {},
   "outputs": [],
   "source": [
    "wumpus_kb.tell(~B24)\n"
   ]
  },
  {
   "cell_type": "code",
   "execution_count": 25,
   "metadata": {},
   "outputs": [],
   "source": [
    "wumpus_kb.tell(~P24)\n"
   ]
  },
  {
   "cell_type": "code",
   "execution_count": 26,
   "metadata": {},
   "outputs": [],
   "source": [
    "wumpus_kb.tell(~W24)\n"
   ]
  },
  {
   "cell_type": "code",
   "execution_count": 27,
   "metadata": {},
   "outputs": [
    {
     "data": {
      "text/plain": [
       "[~P11,\n",
       " ~S11,\n",
       " ~W11,\n",
       " ~B11,\n",
       " ~S12,\n",
       " ~B12,\n",
       " ~P12,\n",
       " ~W12,\n",
       " ~P13,\n",
       " ~S13,\n",
       " ~W13,\n",
       " ~B13,\n",
       " ~S14,\n",
       " ~B14,\n",
       " ~P14,\n",
       " ~W14,\n",
       " ~P11,\n",
       " ~S11,\n",
       " ~W11,\n",
       " ~B11,\n",
       " ~S12,\n",
       " ~B12,\n",
       " ~P12,\n",
       " ~W12,\n",
       " ~P13,\n",
       " ~S13,\n",
       " ~W13,\n",
       " ~B13,\n",
       " ~S14,\n",
       " ~B14,\n",
       " ~P14,\n",
       " ~W14,\n",
       " ~S24,\n",
       " ~B24,\n",
       " ~P24,\n",
       " ~W24]"
      ]
     },
     "execution_count": 27,
     "metadata": {},
     "output_type": "execute_result"
    }
   ],
   "source": [
    "wumpus_kb.clauses\n"
   ]
  },
  {
   "cell_type": "code",
   "execution_count": 28,
   "metadata": {},
   "outputs": [
    {
     "data": {
      "text/plain": [
       "False"
      ]
     },
     "execution_count": 28,
     "metadata": {},
     "output_type": "execute_result"
    }
   ],
   "source": [
    "wumpus_kb.ask_if_true(W23)\n"
   ]
  },
  {
   "cell_type": "code",
   "execution_count": 29,
   "metadata": {},
   "outputs": [],
   "source": [
    "wumpus_kb.tell(~S21)\n"
   ]
  },
  {
   "cell_type": "code",
   "execution_count": 30,
   "metadata": {},
   "outputs": [],
   "source": [
    "wumpus_kb.tell(~B21)\n"
   ]
  },
  {
   "cell_type": "code",
   "execution_count": 31,
   "metadata": {},
   "outputs": [],
   "source": [
    "wumpus_kb.tell(~P21)\n"
   ]
  },
  {
   "cell_type": "code",
   "execution_count": 32,
   "metadata": {},
   "outputs": [],
   "source": [
    "wumpus_kb.tell(~W21)\n"
   ]
  },
  {
   "cell_type": "code",
   "execution_count": 33,
   "metadata": {},
   "outputs": [
    {
     "data": {
      "text/plain": [
       "[~P11,\n",
       " ~S11,\n",
       " ~W11,\n",
       " ~B11,\n",
       " ~S12,\n",
       " ~B12,\n",
       " ~P12,\n",
       " ~W12,\n",
       " ~P13,\n",
       " ~S13,\n",
       " ~W13,\n",
       " ~B13,\n",
       " ~S14,\n",
       " ~B14,\n",
       " ~P14,\n",
       " ~W14,\n",
       " ~P11,\n",
       " ~S11,\n",
       " ~W11,\n",
       " ~B11,\n",
       " ~S12,\n",
       " ~B12,\n",
       " ~P12,\n",
       " ~W12,\n",
       " ~P13,\n",
       " ~S13,\n",
       " ~W13,\n",
       " ~B13,\n",
       " ~S14,\n",
       " ~B14,\n",
       " ~P14,\n",
       " ~W14,\n",
       " ~S24,\n",
       " ~B24,\n",
       " ~P24,\n",
       " ~W24,\n",
       " ~S21,\n",
       " ~B21,\n",
       " ~P21,\n",
       " ~W21]"
      ]
     },
     "execution_count": 33,
     "metadata": {},
     "output_type": "execute_result"
    }
   ],
   "source": [
    "wumpus_kb.clauses\n"
   ]
  },
  {
   "cell_type": "code",
   "execution_count": 34,
   "metadata": {},
   "outputs": [
    {
     "data": {
      "text/plain": [
       "False"
      ]
     },
     "execution_count": 34,
     "metadata": {},
     "output_type": "execute_result"
    }
   ],
   "source": [
    "wumpus_kb.ask_if_true(B21)\n"
   ]
  },
  {
   "cell_type": "code",
   "execution_count": 35,
   "metadata": {},
   "outputs": [],
   "source": [
    "wumpus_kb.tell(~S22)\n"
   ]
  },
  {
   "cell_type": "code",
   "execution_count": 36,
   "metadata": {},
   "outputs": [],
   "source": [
    "wumpus_kb.tell(~B22)\n"
   ]
  },
  {
   "cell_type": "code",
   "execution_count": 37,
   "metadata": {},
   "outputs": [],
   "source": [
    "wumpus_kb.tell(~P22)\n"
   ]
  },
  {
   "cell_type": "code",
   "execution_count": 38,
   "metadata": {},
   "outputs": [],
   "source": [
    "wumpus_kb.tell(~W22)"
   ]
  },
  {
   "cell_type": "code",
   "execution_count": 39,
   "metadata": {},
   "outputs": [
    {
     "data": {
      "text/plain": [
       "[~P11,\n",
       " ~S11,\n",
       " ~W11,\n",
       " ~B11,\n",
       " ~S12,\n",
       " ~B12,\n",
       " ~P12,\n",
       " ~W12,\n",
       " ~P13,\n",
       " ~S13,\n",
       " ~W13,\n",
       " ~B13,\n",
       " ~S14,\n",
       " ~B14,\n",
       " ~P14,\n",
       " ~W14,\n",
       " ~P11,\n",
       " ~S11,\n",
       " ~W11,\n",
       " ~B11,\n",
       " ~S12,\n",
       " ~B12,\n",
       " ~P12,\n",
       " ~W12,\n",
       " ~P13,\n",
       " ~S13,\n",
       " ~W13,\n",
       " ~B13,\n",
       " ~S14,\n",
       " ~B14,\n",
       " ~P14,\n",
       " ~W14,\n",
       " ~S24,\n",
       " ~B24,\n",
       " ~P24,\n",
       " ~W24,\n",
       " ~S21,\n",
       " ~B21,\n",
       " ~P21,\n",
       " ~W21,\n",
       " ~S22,\n",
       " ~B22,\n",
       " ~P22,\n",
       " ~W22]"
      ]
     },
     "execution_count": 39,
     "metadata": {},
     "output_type": "execute_result"
    }
   ],
   "source": [
    "wumpus_kb.clauses\n"
   ]
  },
  {
   "cell_type": "code",
   "execution_count": 40,
   "metadata": {},
   "outputs": [
    {
     "data": {
      "text/plain": [
       "False"
      ]
     },
     "execution_count": 40,
     "metadata": {},
     "output_type": "execute_result"
    }
   ],
   "source": [
    "wumpus_kb.ask_if_true(B22)\n"
   ]
  },
  {
   "cell_type": "code",
   "execution_count": 50,
   "metadata": {},
   "outputs": [],
   "source": [
    "wumpus_kb.tell(B34)\n"
   ]
  },
  {
   "cell_type": "code",
   "execution_count": 51,
   "metadata": {},
   "outputs": [],
   "source": [
    "wumpus_kb.tell(B23)\n"
   ]
  },
  {
   "cell_type": "code",
   "execution_count": 52,
   "metadata": {},
   "outputs": [],
   "source": [
    "wumpus_kb.tell(B31)\n"
   ]
  },
  {
   "cell_type": "code",
   "execution_count": 53,
   "metadata": {},
   "outputs": [],
   "source": [
    "wumpus_kb.tell(B32)\n"
   ]
  },
  {
   "cell_type": "code",
   "execution_count": 54,
   "metadata": {},
   "outputs": [],
   "source": [
    "wumpus_kb.tell(B44)\n"
   ]
  },
  {
   "cell_type": "code",
   "execution_count": 55,
   "metadata": {},
   "outputs": [],
   "source": [
    "wumpus_kb.tell(B42)\n"
   ]
  },
  {
   "cell_type": "code",
   "execution_count": 56,
   "metadata": {},
   "outputs": [],
   "source": [
    "wumpus_kb.tell(S12 | '<=>' | ((W22 | W13)))\n"
   ]
  },
  {
   "cell_type": "code",
   "execution_count": 57,
   "metadata": {},
   "outputs": [],
   "source": [
    "wumpus_kb.tell(~B12 | '<=>' | ((~P22 | ~P13)))\n"
   ]
  },
  {
   "cell_type": "code",
   "execution_count": 58,
   "metadata": {},
   "outputs": [],
   "source": [
    "wumpus_kb.tell(B23 | '<=>' | ((P33 | P34)))"
   ]
  },
  {
   "cell_type": "code",
   "execution_count": 59,
   "metadata": {},
   "outputs": [],
   "source": [
    "wumpus_kb.tell(B31 | '<=>' | ((P41| P23)))\n"
   ]
  },
  {
   "cell_type": "code",
   "execution_count": 60,
   "metadata": {},
   "outputs": [],
   "source": [
    "wumpus_kb.tell(B32 | '<=>' | ((P33| P42)))\n"
   ]
  },
  {
   "cell_type": "code",
   "execution_count": 61,
   "metadata": {},
   "outputs": [],
   "source": [
    "wumpus_kb.tell(B34 | '<=>' | ((P33| P44)))\n"
   ]
  },
  {
   "cell_type": "code",
   "execution_count": 62,
   "metadata": {},
   "outputs": [
    {
     "data": {
      "text/plain": [
       "[~P11,\n",
       " ~S11,\n",
       " ~W11,\n",
       " ~B11,\n",
       " ~S12,\n",
       " ~B12,\n",
       " ~P12,\n",
       " ~W12,\n",
       " ~P13,\n",
       " ~S13,\n",
       " ~W13,\n",
       " ~B13,\n",
       " ~S14,\n",
       " ~B14,\n",
       " ~P14,\n",
       " ~W14,\n",
       " ~P11,\n",
       " ~S11,\n",
       " ~W11,\n",
       " ~B11,\n",
       " ~S12,\n",
       " ~B12,\n",
       " ~P12,\n",
       " ~W12,\n",
       " ~P13,\n",
       " ~S13,\n",
       " ~W13,\n",
       " ~B13,\n",
       " ~S14,\n",
       " ~B14,\n",
       " ~P14,\n",
       " ~W14,\n",
       " ~S24,\n",
       " ~B24,\n",
       " ~P24,\n",
       " ~W24,\n",
       " ~S21,\n",
       " ~B21,\n",
       " ~P21,\n",
       " ~W21,\n",
       " ~S22,\n",
       " ~B22,\n",
       " ~P22,\n",
       " ~W22,\n",
       " B34,\n",
       " B23,\n",
       " B31,\n",
       " B32,\n",
       " B44,\n",
       " B42,\n",
       " (~W22 | S12),\n",
       " (~W13 | S12),\n",
       " (W22 | W13 | ~S12),\n",
       " (P22 | ~B12),\n",
       " (P13 | ~B12),\n",
       " (~P22 | ~P13 | B12),\n",
       " (~P33 | B23),\n",
       " (~P34 | B23),\n",
       " (P33 | P34 | ~B23),\n",
       " B34,\n",
       " B23,\n",
       " B31,\n",
       " B32,\n",
       " B44,\n",
       " B42,\n",
       " (~W22 | S12),\n",
       " (~W13 | S12),\n",
       " (W22 | W13 | ~S12),\n",
       " (P22 | ~B12),\n",
       " (P13 | ~B12),\n",
       " (~P22 | ~P13 | B12),\n",
       " (~P33 | B23),\n",
       " (~P34 | B23),\n",
       " (P33 | P34 | ~B23),\n",
       " (~P41 | B31),\n",
       " (~P23 | B31),\n",
       " (P41 | P23 | ~B31),\n",
       " (~P33 | B32),\n",
       " (~P42 | B32),\n",
       " (P33 | P42 | ~B32),\n",
       " (~P33 | B34),\n",
       " (~P44 | B34),\n",
       " (P33 | P44 | ~B34)]"
      ]
     },
     "execution_count": 62,
     "metadata": {},
     "output_type": "execute_result"
    }
   ],
   "source": [
    "wumpus_kb.clauses\n"
   ]
  },
  {
   "cell_type": "code",
   "execution_count": null,
   "metadata": {},
   "outputs": [],
   "source": [
    "wumpus_kb.ask_if_true(~P41)"
   ]
  },
  {
   "cell_type": "code",
   "execution_count": null,
   "metadata": {},
   "outputs": [],
   "source": []
  },
  {
   "cell_type": "code",
   "execution_count": null,
   "metadata": {},
   "outputs": [],
   "source": []
  }
 ],
 "metadata": {
  "kernelspec": {
   "display_name": "Python 3",
   "language": "python",
   "name": "python3"
  },
  "language_info": {
   "codemirror_mode": {
    "name": "ipython",
    "version": 3
   },
   "file_extension": ".py",
   "mimetype": "text/x-python",
   "name": "python",
   "nbconvert_exporter": "python",
   "pygments_lexer": "ipython3",
   "version": "3.8.8"
  }
 },
 "nbformat": 4,
 "nbformat_minor": 4
}
